{
 "cells": [
  {
   "cell_type": "code",
   "execution_count": null,
   "id": "927841d9-fb45-40f5-a86a-612f936b518a",
   "metadata": {},
   "outputs": [
    {
     "name": "stdout",
     "output_type": "stream",
     "text": [
      "Welcome to Space, your trusted Banking partner.\n"
     ]
    }
   ],
   "source": [
    "#Creating a command-line-interface basic atm\n",
    "\n",
    "print('Welcome to Space, your trusted Banking partner.')\n",
    "\n",
    "pin= int(input('Please Create A 4-digit Pin: '))\n",
    "\n",
    "account_pin = pin\n",
    "Trials = 3\n",
    "\n",
    "while Trials > 0:\n",
    "    account_pin = int(input(\"Please Enter Your 4 digit pin: \"))\n",
    "    if account_pin != pin:\n",
    "        Trials -= 1\n",
    "        print(\"Wrong Pin! You have\", Trials, \"Trials remaining\")\n",
    "    else:\n",
    "        activity = input(\"D for Deposit or W for Withdrawal or B for Balance: \")\n",
    "        if activity.upper() == 'D':\n",
    "            deposit = int(input('Enter The Amount In Numbers That You Would Like To Deposit: '))\n",
    "            print('Ksh', deposit, ' has been deposited into your account')\n",
    "        elif activity.upper() == 'W':\n",
    "            withdrawal = int(input('Enter The Amount InNumbers That You Would Like To Withdraw: '))\n",
    "            print('Ksh', withdrawal, ' has been withdrawn from your account')\n",
    "        elif activity.upper() == 'B':\n",
    "            print('Your balance is Ksh 10,000,000')\n",
    "        exit_choice = input('Would you like to proceed with another transaction? Y/N?: ')\n",
    "        if exit_choice.upper() == 'N':\n",
    "            print('Thank you for choosing Space')\n",
    "            break\n",
    "        else:\n",
    "            continue"
   ]
  }
 ],
 "metadata": {
  "kernelspec": {
   "display_name": "anaconda-panel-2023.05-py310",
   "language": "python",
   "name": "conda-env-anaconda-panel-2023.05-py310-py"
  },
  "language_info": {
   "codemirror_mode": {
    "name": "ipython",
    "version": 3
   },
   "file_extension": ".py",
   "mimetype": "text/x-python",
   "name": "python",
   "nbconvert_exporter": "python",
   "pygments_lexer": "ipython3",
   "version": "3.11.5"
  }
 },
 "nbformat": 4,
 "nbformat_minor": 5
}
