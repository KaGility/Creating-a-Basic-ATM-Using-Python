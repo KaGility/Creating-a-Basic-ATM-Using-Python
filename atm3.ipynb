{
 "cells": [
  {
   "cell_type": "code",
   "execution_count": 4,
   "id": "1c6ec6f5-293f-4b25-b6c4-1f3979335e32",
   "metadata": {},
   "outputs": [
    {
     "name": "stdout",
     "output_type": "stream",
     "text": [
      "\n",
      "Welcome to Space. Select option from menu\n",
      "1. Login\n",
      "2. Create An account\n",
      "3. Exit\n"
     ]
    },
    {
     "name": "stdin",
     "output_type": "stream",
     "text": [
      "Input choice:  2\n"
     ]
    },
    {
     "name": "stdout",
     "output_type": "stream",
     "text": [
      "Create Account\n"
     ]
    },
    {
     "name": "stdin",
     "output_type": "stream",
     "text": [
      "Enter your name:  Gilbert\n"
     ]
    },
    {
     "name": "stdout",
     "output_type": "stream",
     "text": [
      "Name added successfully\n"
     ]
    },
    {
     "name": "stdin",
     "output_type": "stream",
     "text": [
      "Enter your 4-digit password:  1234\n"
     ]
    },
    {
     "name": "stdout",
     "output_type": "stream",
     "text": [
      "Account created successfully!\n",
      "\n",
      "Welcome to Space. Select option from menu\n",
      "1. Login\n",
      "2. Create An account\n",
      "3. Exit\n"
     ]
    },
    {
     "name": "stdin",
     "output_type": "stream",
     "text": [
      "Input choice:  1\n"
     ]
    },
    {
     "name": "stdout",
     "output_type": "stream",
     "text": [
      "Login\n"
     ]
    },
    {
     "name": "stdin",
     "output_type": "stream",
     "text": [
      "Enter Your Name:  Gilbert\n",
      "Enter Your Password:  1234\n"
     ]
    },
    {
     "name": "stdout",
     "output_type": "stream",
     "text": [
      "Login successful! Welcome  Gilbert\n",
      "\n",
      " Select an option\n",
      "1. Transactions\n",
      "2. Back\n"
     ]
    },
    {
     "name": "stdin",
     "output_type": "stream",
     "text": [
      "Enter option:  1\n",
      "Enter your initial deposit amount:  1000\n"
     ]
    },
    {
     "name": "stdout",
     "output_type": "stream",
     "text": [
      "Initial deposit of Ksh  1000.0  successful\n",
      "\n",
      "Options:\n",
      "1. Deposit\n",
      "2. Withdraw\n",
      "3. Check Balance\n",
      "4. Back\n"
     ]
    },
    {
     "name": "stdin",
     "output_type": "stream",
     "text": [
      "Enter your choice:  1\n",
      "Enter deposit amount:  100\n"
     ]
    },
    {
     "name": "stdout",
     "output_type": "stream",
     "text": [
      "Deposit of Ksh 100.0 successful.\n",
      "\n",
      "Options:\n",
      "1. Deposit\n",
      "2. Withdraw\n",
      "3. Check Balance\n",
      "4. Back\n"
     ]
    },
    {
     "name": "stdin",
     "output_type": "stream",
     "text": [
      "Enter your choice:  3\n"
     ]
    },
    {
     "name": "stdout",
     "output_type": "stream",
     "text": [
      "Your current balance is Ksh  1100.0\n",
      "\n",
      "Options:\n",
      "1. Deposit\n",
      "2. Withdraw\n",
      "3. Check Balance\n",
      "4. Back\n"
     ]
    },
    {
     "name": "stdin",
     "output_type": "stream",
     "text": [
      "Enter your choice:  4\n"
     ]
    },
    {
     "name": "stdout",
     "output_type": "stream",
     "text": [
      "You have left the transactions menu.\n",
      "\n",
      "Welcome to Space. Select option from menu\n",
      "1. Login\n",
      "2. Create An account\n",
      "3. Exit\n"
     ]
    },
    {
     "name": "stdin",
     "output_type": "stream",
     "text": [
      "Input choice:  3\n"
     ]
    },
    {
     "name": "stdout",
     "output_type": "stream",
     "text": [
      "Thank you for choosing Space bank.\n"
     ]
    }
   ],
   "source": [
    "# defining the library to allow a user to create their account and their credentials stored\n",
    "user_account = {}\n",
    "\n",
    "# defining the parameters for the library\n",
    "#function to create account\n",
    "def create_account():\n",
    "    print(\"Create Account\")\n",
    "    name = str(input('Enter your name: '))\n",
    "\n",
    "    # Checking whether the name is a string\n",
    "    if isinstance(name, str):\n",
    "        print('Name added successfully')\n",
    "    else:\n",
    "        print('Name must be a string')\n",
    "\n",
    "    password = input('Enter your 4-digit password: ')\n",
    "#checking whether password is in 4 digits\n",
    "    if len(password) != 4 or not password.isdigit():\n",
    "        print('Password must be a 4-digit number')\n",
    "        return\n",
    "#confirming name of user is not already taken\n",
    "    if name in user_account:\n",
    "        print(\"Sorry, the name is already taken.\")\n",
    "    else:\n",
    "        user_account[name] = password\n",
    "        print('Account created successfully!')\n",
    "\n",
    "\n",
    "# function to allow user log-in to their created account\n",
    "def login():\n",
    "    print(\"Login\")\n",
    "    name = input('Enter Your Name: ')\n",
    "    password = input('Enter Your Password: ')\n",
    "\n",
    "    if name in user_account and user_account[name] == password:\n",
    "        print('Login successful! Welcome ', name)\n",
    "        print('\\n Select an option')\n",
    "        print('1. Transactions')\n",
    "        print('2. Back')\n",
    "\n",
    "        option = input('Enter option: ')\n",
    "\n",
    "        balance = 0\n",
    "\n",
    "        if option == '1':\n",
    "            # Prompt the user to make the initial deposit if the balance is zero\n",
    "            if balance == 0:\n",
    "                try:\n",
    "                    initial_deposit = float(input(\"Enter your initial deposit amount: \"))\n",
    "                    if initial_deposit < 0:\n",
    "                        print(\"Invalid initial deposit amount. Please enter a non-negative value.\")\n",
    "                        return\n",
    "                    balance += initial_deposit\n",
    "                    print(\"Initial deposit of Ksh \", balance, \" successful\")\n",
    "                except ValueError:\n",
    "                    print(\"Invalid input for initial deposit. Please enter a valid amount.\")\n",
    "                    return\n",
    "\n",
    "            while True:\n",
    "                print(\"\\nOptions:\")\n",
    "                print(\"1. Deposit\")\n",
    "                print(\"2. Withdraw\")\n",
    "                print(\"3. Check Balance\")\n",
    "                print(\"4. Back\")\n",
    "\n",
    "                choice = input(\"Enter your choice: \")\n",
    "\n",
    "                if choice == '1':  # Deposit\n",
    "                    try:\n",
    "                        deposit_amount = float(input(\"Enter deposit amount: \"))\n",
    "                        if deposit_amount < 0:\n",
    "                            print(\"Invalid deposit amount. Please enter a non-negative value.\")\n",
    "                            continue\n",
    "                        balance += deposit_amount\n",
    "                        print(\"Deposit of Ksh\", deposit_amount, \"successful.\")\n",
    "                    except ValueError:\n",
    "                        print(\"Invalid input for deposit amount. Please enter a valid amount.\")\n",
    "\n",
    "                elif choice == '2':  # Withdraw\n",
    "                    try:\n",
    "                        withdraw_amount = float(input(\"Enter withdrawal amount: \"))\n",
    "                        if withdraw_amount < 0:\n",
    "                            print(\"Invalid withdrawal amount. Please enter a non-negative value.\")\n",
    "                            continue\n",
    "                        if withdraw_amount > balance:\n",
    "                            print(\"Insufficient funds for withdrawal.\")\n",
    "                            continue\n",
    "                        balance -= withdraw_amount\n",
    "                        print(\"Withdrawal of Ksh \", withdraw_amount,\" successful.\")\n",
    "                    except ValueError:\n",
    "                        print(\"Invalid input for withdrawal amount. Please enter a valid amount.\")\n",
    "\n",
    "                elif choice == '3':  # Check Balance\n",
    "                    print(\"Your current balance is Ksh \", balance)\n",
    "\n",
    "                elif choice == '4':  # Back\n",
    "                    print(\"You have left the transactions menu.\")\n",
    "                    break\n",
    "\n",
    "                else:\n",
    "                    print(\"Invalid choice. Please enter a valid option.\")\n",
    "\n",
    "        elif option == '2':\n",
    "            print('Thank you for choosing Space bank.')\n",
    "\n",
    "        else:\n",
    "            print('Invalid choice. Please try again.')\n",
    "\n",
    "    else:\n",
    "        print('Account does not exist. Please create account')\n",
    "\n",
    "\n",
    "# introducing the menu\n",
    "def main():\n",
    "    while True:\n",
    "        print('\\nWelcome to Space. Select option from menu')\n",
    "        print('1. Login')\n",
    "        print('2. Create An account')\n",
    "        print('3. Exit')\n",
    "\n",
    "        choice = input('Input choice: ')\n",
    "\n",
    "        if choice == '1':\n",
    "            login()\n",
    "        elif choice == '2':\n",
    "            create_account()\n",
    "        elif choice == '3':\n",
    "            print('Thank you for choosing Space bank.')\n",
    "            break\n",
    "        else:\n",
    "            print('Invalid choice. Please try again.')\n",
    "\n",
    "\n",
    "if __name__ == '__main__':\n",
    "    main()"
   ]
  },
  {
   "cell_type": "code",
   "execution_count": null,
   "id": "e1583767-3ff4-4472-b5ce-a2f76c50bba8",
   "metadata": {},
   "outputs": [],
   "source": []
  },
  {
   "cell_type": "code",
   "execution_count": null,
   "id": "53a36d6e-19f6-4f97-b631-7d2faff2eaf1",
   "metadata": {},
   "outputs": [],
   "source": []
  }
 ],
 "metadata": {
  "kernelspec": {
   "display_name": "anaconda-panel-2023.05-py310",
   "language": "python",
   "name": "conda-env-anaconda-panel-2023.05-py310-py"
  },
  "language_info": {
   "codemirror_mode": {
    "name": "ipython",
    "version": 3
   },
   "file_extension": ".py",
   "mimetype": "text/x-python",
   "name": "python",
   "nbconvert_exporter": "python",
   "pygments_lexer": "ipython3",
   "version": "3.11.5"
  }
 },
 "nbformat": 4,
 "nbformat_minor": 5
}
